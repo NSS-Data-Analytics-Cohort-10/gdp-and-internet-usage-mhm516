{
 "cells": [
  {
   "cell_type": "markdown",
   "id": "d639bbcb",
   "metadata": {},
   "source": [
    "3.Import the required packages with their customary aliases as follows"
   ]
  },
  {
   "cell_type": "code",
   "execution_count": 1,
   "id": "d900dc39",
   "metadata": {},
   "outputs": [],
   "source": [
    "import pandas as pd   \n",
    "import numpy as np\n",
    "import matplotlib.pyplot as plt\n",
    "import seaborn as sns"
   ]
  },
  {
   "cell_type": "markdown",
   "id": "cb86c211",
   "metadata": {},
   "source": [
    "4.Using the pandas `read_csv()` method, read the GDP dataset into your notebook as a DataFrame called `gdp_df`. Take a look at the first few and last few rows to familiarize yourself with what is contained in this dataset.\n",
    "5.How many rows and columns are in `gdp_df`? What are the data types of each column?"
   ]
  },
  {
   "cell_type": "code",
   "execution_count": 2,
   "id": "7b1d3e81",
   "metadata": {
    "scrolled": true
   },
   "outputs": [
    {
     "name": "stdout",
     "output_type": "stream",
     "text": [
      "     Country or Area  Year        Value  Value Footnotes\n",
      "0        Afghanistan  2021  1517.016266              NaN\n",
      "1        Afghanistan  2020  1968.341002              NaN\n",
      "2        Afghanistan  2019  2079.921861              NaN\n",
      "3        Afghanistan  2018  2060.698973              NaN\n",
      "4        Afghanistan  2017  2096.093111              NaN\n",
      "...              ...   ...          ...              ...\n",
      "7657        Zimbabwe  1994  2670.106615              NaN\n",
      "7658        Zimbabwe  1993  2458.783255              NaN\n",
      "7659        Zimbabwe  1992  2468.278257              NaN\n",
      "7660        Zimbabwe  1991  2781.787843              NaN\n",
      "7661        Zimbabwe  1990  2704.757299              NaN\n",
      "\n",
      "[7662 rows x 4 columns]\n",
      "<class 'pandas.core.frame.DataFrame'>\n",
      "RangeIndex: 7662 entries, 0 to 7661\n",
      "Data columns (total 4 columns):\n",
      " #   Column           Non-Null Count  Dtype  \n",
      "---  ------           --------------  -----  \n",
      " 0   Country or Area  7662 non-null   object \n",
      " 1   Year             7662 non-null   int64  \n",
      " 2   Value            7662 non-null   float64\n",
      " 3   Value Footnotes  0 non-null      float64\n",
      "dtypes: float64(2), int64(1), object(1)\n",
      "memory usage: 239.6+ KB\n",
      "None\n"
     ]
    }
   ],
   "source": [
    "gdp_df= pd.read_csv('../data/gdp_percapita.csv')\n",
    "print(gdp_df)\n",
    "print(gdp_df.info())"
   ]
  },
  {
   "cell_type": "markdown",
   "id": "a83c4482",
   "metadata": {},
   "source": [
    "6.Drop the `Value Footnotes` column and rename the remaining three to 'Country', 'Year', and 'GDP_Per_Capita'."
   ]
  },
  {
   "cell_type": "code",
   "execution_count": 3,
   "id": "0adcbe84",
   "metadata": {
    "scrolled": true
   },
   "outputs": [
    {
     "name": "stdout",
     "output_type": "stream",
     "text": [
      "          Country  Year  GDP_Per_Capita\n",
      "0     Afghanistan  2021     1517.016266\n",
      "1     Afghanistan  2020     1968.341002\n",
      "2     Afghanistan  2019     2079.921861\n",
      "3     Afghanistan  2018     2060.698973\n",
      "4     Afghanistan  2017     2096.093111\n",
      "...           ...   ...             ...\n",
      "7657     Zimbabwe  1994     2670.106615\n",
      "7658     Zimbabwe  1993     2458.783255\n",
      "7659     Zimbabwe  1992     2468.278257\n",
      "7660     Zimbabwe  1991     2781.787843\n",
      "7661     Zimbabwe  1990     2704.757299\n",
      "\n",
      "[7662 rows x 3 columns]\n"
     ]
    }
   ],
   "source": [
    "gdp_df=gdp_df.drop(columns=['Value Footnotes'])\n",
    "gdp_df=gdp_df.rename(columns={'Country or Area':'Country','Year':'Year','Value':'GDP_Per_Capita'})\n",
    "print(gdp_df)"
   ]
  },
  {
   "cell_type": "markdown",
   "id": "6c8376fe",
   "metadata": {},
   "source": [
    "7.How many countries have data for all years? Which countries are missing many years of data? Look at the number of observations per year. What do you notice? "
   ]
  },
  {
   "cell_type": "code",
   "execution_count": 4,
   "id": "da46bfab",
   "metadata": {
    "scrolled": true
   },
   "outputs": [
    {
     "name": "stdout",
     "output_type": "stream",
     "text": [
      "<class 'pandas.core.frame.DataFrame'>\n",
      "Index: 40 entries, 0 to 7534\n",
      "Data columns (total 4 columns):\n",
      " #   Column          Non-Null Count  Dtype  \n",
      "---  ------          --------------  -----  \n",
      " 0   Country         40 non-null     object \n",
      " 1   Year            40 non-null     int64  \n",
      " 2   GDP_Per_Capita  40 non-null     float64\n",
      " 3   country_count   40 non-null     int64  \n",
      "dtypes: float64(1), int64(2), object(1)\n",
      "memory usage: 1.6+ KB\n",
      "None\n",
      "<class 'pandas.core.frame.DataFrame'>\n",
      "Index: 202 entries, 20 to 7629\n",
      "Data columns (total 4 columns):\n",
      " #   Column          Non-Null Count  Dtype  \n",
      "---  ------          --------------  -----  \n",
      " 0   Country         202 non-null    object \n",
      " 1   Year            202 non-null    int64  \n",
      " 2   GDP_Per_Capita  202 non-null    float64\n",
      " 3   country_count   202 non-null    int64  \n",
      "dtypes: float64(1), int64(2), object(1)\n",
      "memory usage: 7.9+ KB\n",
      "None\n"
     ]
    }
   ],
   "source": [
    "gdp_df['country_count']=gdp_df['Country'].groupby(gdp_df['Country']).transform('count')\n",
    "missing_list=gdp_df[gdp_df['country_count']<33]\n",
    "missing_list.Country\n",
    "missing_country_list=missing_list.drop_duplicates(subset=['Country'])\n",
    "complete_list=gdp_df[gdp_df['country_count']==33]\n",
    "completed_list=complete_list.drop_duplicates(subset=['Country'])\n",
    "print(missing_country_list.info())\n",
    "print(completed_list.info())"
   ]
  },
  {
   "cell_type": "markdown",
   "id": "2368554e",
   "metadata": {},
   "source": [
    "8.What was the median GDP per capita value in 2020?"
   ]
  },
  {
   "cell_type": "code",
   "execution_count": 14,
   "id": "9fbf0530",
   "metadata": {},
   "outputs": [
    {
     "name": "stdout",
     "output_type": "stream",
     "text": [
      "nan\n"
     ]
    }
   ],
   "source": [
    "med_gdp_2020=gdp_df.loc[gdp_df['Year']=='2020','GDP_Per_Capita'].median()\n",
    "print(med_gdp_2020)"
   ]
  }
 ],
 "metadata": {
  "kernelspec": {
   "display_name": "Python 3 (ipykernel)",
   "language": "python",
   "name": "python3"
  },
  "language_info": {
   "codemirror_mode": {
    "name": "ipython",
    "version": 3
   },
   "file_extension": ".py",
   "mimetype": "text/x-python",
   "name": "python",
   "nbconvert_exporter": "python",
   "pygments_lexer": "ipython3",
   "version": "3.11.5"
  }
 },
 "nbformat": 4,
 "nbformat_minor": 5
}
